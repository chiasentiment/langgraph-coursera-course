{
 "cells": [
  {
   "cell_type": "code",
   "execution_count": 1,
   "metadata": {},
   "outputs": [],
   "source": [
    "from dotenv import load_dotenv, find_dotenv\n",
    "_ = load_dotenv(find_dotenv())\n",
    "import os\n",
    "if not os.environ.get(\"TAVILY_API_KEY\"):\n",
    "    os.environ[\"TAVILY_API_KEY\"] = getpass.getpass(\"Tavily API key:\\n\")"
   ]
  },
  {
   "cell_type": "code",
   "execution_count": 2,
   "metadata": {},
   "outputs": [],
   "source": [
    "from langgraph.graph import StateGraph, END\n",
    "from typing import TypedDict, Annotated\n",
    "import operator\n",
    "from langchain_core.messages import AnyMessage, SystemMessage, HumanMessage, ToolMessage\n",
    "from langchain_openai import ChatOpenAI\n",
    "from langchain_community.tools.tavily_search import TavilySearchResults"
   ]
  },
  {
   "cell_type": "code",
   "execution_count": 3,
   "metadata": {},
   "outputs": [],
   "source": [
    "tool = TavilySearchResults(max_results=2)"
   ]
  },
  {
   "cell_type": "code",
   "execution_count": 4,
   "metadata": {},
   "outputs": [],
   "source": [
    "prompt = \"\"\"You are a smart research assistant. Use the search engine to look up information. \\\n",
    "You are allowed to make multiple calls (either together or in sequence). \\\n",
    "Only look up information when you are sure of what you want. \\\n",
    "If you need to look up some information before asking a follow up question, you are allowed to do that!\n",
    "\"\"\""
   ]
  },
  {
   "cell_type": "code",
   "execution_count": 5,
   "metadata": {},
   "outputs": [],
   "source": [
    "model = ChatOpenAI(model='gpt-3.5-turbo')\n"
   ]
  },
  {
   "cell_type": "code",
   "execution_count": 6,
   "metadata": {},
   "outputs": [],
   "source": [
    "class AgentState(TypedDict):\n",
    "    messages: Annotated[list[AnyMessage], operator.add]"
   ]
  },
  {
   "cell_type": "code",
   "execution_count": 7,
   "metadata": {},
   "outputs": [],
   "source": [
    "from langgraph.checkpoint.memory import MemorySaver\n",
    "memory = MemorySaver()\n",
    "# from langgraph.checkpoint.sqlite import SqliteSaver\n",
    "# memory = SqliteSaver.from_conn_string(\":memory:\")"
   ]
  },
  {
   "cell_type": "code",
   "execution_count": 8,
   "metadata": {},
   "outputs": [],
   "source": [
    "class Agent:\n",
    "    def __init__(self, model, tools, checkpointer, system='' ):\n",
    "        self.system = system\n",
    "        graph = StateGraph(AgentState)\n",
    "        graph.add_node(\"llm\", self.call_openai)\n",
    "        graph.add_node(\"action\", self.take_action)\n",
    "        graph.add_conditional_edges(\"llm\",\n",
    "                                    self.action_exists ,\n",
    "                                    {True:\"action\", False:END})\n",
    "        graph.add_edge(\"action\" ,\"llm\")\n",
    "        graph.set_entry_point(\"llm\")\n",
    "        self.graph = graph.compile(checkpointer=checkpointer)\n",
    "        self.tools = {t.name: t for t in tools}\n",
    "        self.model = model.bind_tools(tools)\n",
    "    def action_exists(self, state:AgentState):\n",
    "        result = state['messages'][-1]\n",
    "        return(len(result.tool_calls)>0)\n",
    "    \n",
    "    def call_openai(self, state:AgentState):\n",
    "        messages = state['messages']\n",
    "        if self.system:\n",
    "            messages = [SystemMessage(content=self.system)]+messages\n",
    "        message = self.model.invoke(messages)\n",
    "        return{\"messages\":[message]}\n",
    "    def take_action(self, state:AgentState):\n",
    "        tool_calls  = state[\"messages\"][-1].tool_calls\n",
    "        results = []\n",
    "        for t in tool_calls :\n",
    "            print (f'invoking tool {t}')\n",
    "            result = self.tools[t['name']].invoke(t['args'])\n",
    "            results.append(ToolMessage(tool_call_id=t['id'], name=t['name'], content=str(result)))\n",
    "        print (\"back to the model!\")\n",
    "        return {\"messages\": results}\n",
    "        "
   ]
  },
  {
   "cell_type": "code",
   "execution_count": 9,
   "metadata": {},
   "outputs": [],
   "source": [
    "abot = Agent(model, [tool], system=prompt, checkpointer=memory)"
   ]
  },
  {
   "cell_type": "code",
   "execution_count": 10,
   "metadata": {},
   "outputs": [],
   "source": [
    "messages = [HumanMessage(content=\"What is the weather in chennai, India\")]"
   ]
  },
  {
   "cell_type": "code",
   "execution_count": 11,
   "metadata": {},
   "outputs": [],
   "source": [
    "thread={\"configurable\": {\"thread_id\":\"1\"}}\n"
   ]
  },
  {
   "cell_type": "code",
   "execution_count": 12,
   "metadata": {},
   "outputs": [
    {
     "name": "stdout",
     "output_type": "stream",
     "text": [
      "[AIMessage(content='', additional_kwargs={'tool_calls': [{'id': 'call_K8K1hfEXCrvhNTdypQgzguFq', 'function': {'arguments': '{\"query\":\"weather in Chennai, India\"}', 'name': 'tavily_search_results_json'}, 'type': 'function'}], 'refusal': None}, response_metadata={'token_usage': {'completion_tokens': 23, 'prompt_tokens': 155, 'total_tokens': 178, 'completion_tokens_details': {'accepted_prediction_tokens': 0, 'audio_tokens': 0, 'reasoning_tokens': 0, 'rejected_prediction_tokens': 0}, 'prompt_tokens_details': {'audio_tokens': 0, 'cached_tokens': 0}}, 'model_name': 'gpt-3.5-turbo-0125', 'system_fingerprint': None, 'finish_reason': 'tool_calls', 'logprobs': None}, id='run-39acddf8-43c6-48c6-af03-8c9dd7195a77-0', tool_calls=[{'name': 'tavily_search_results_json', 'args': {'query': 'weather in Chennai, India'}, 'id': 'call_K8K1hfEXCrvhNTdypQgzguFq', 'type': 'tool_call'}], usage_metadata={'input_tokens': 155, 'output_tokens': 23, 'total_tokens': 178, 'input_token_details': {'audio': 0, 'cache_read': 0}, 'output_token_details': {'audio': 0, 'reasoning': 0}})]\n",
      "invoking tool {'name': 'tavily_search_results_json', 'args': {'query': 'weather in Chennai, India'}, 'id': 'call_K8K1hfEXCrvhNTdypQgzguFq', 'type': 'tool_call'}\n",
      "back to the model!\n",
      "[ToolMessage(content='[{\\'title\\': \\'Weather in Chennai, India\\', \\'url\\': \\'https://www.weatherapi.com/\\', \\'content\\': \"{\\'location\\': {\\'name\\': \\'Chennai\\', \\'region\\': \\'Tamil Nadu\\', \\'country\\': \\'India\\', \\'lat\\': 13.0833, \\'lon\\': 80.2833, \\'tz_id\\': \\'Asia/Kolkata\\', \\'localtime_epoch\\': 1741928772, \\'localtime\\': \\'2025-03-14 10:36\\'}, \\'current\\': {\\'last_updated_epoch\\': 1741928400, \\'last_updated\\': \\'2025-03-14 10:30\\', \\'temp_c\\': 30.1, \\'temp_f\\': 86.2, \\'is_day\\': 1, \\'condition\\': {\\'text\\': \\'Mist\\', \\'icon\\': \\'//cdn.weatherapi.com/weather/64x64/day/143.png\\', \\'code\\': 1030}, \\'wind_mph\\': 8.5, \\'wind_kph\\': 13.7, \\'wind_degree\\': 167, \\'wind_dir\\': \\'SSE\\', \\'pressure_mb\\': 1013.0, \\'pressure_in\\': 29.91, \\'precip_mm\\': 0.0, \\'precip_in\\': 0.0, \\'humidity\\': 75, \\'cloud\\': 50, \\'feelslike_c\\': 32.6, \\'feelslike_f\\': 90.6, \\'windchill_c\\': 30.2, \\'windchill_f\\': 86.4, \\'heatindex_c\\': 32.7, \\'heatindex_f\\': 90.9, \\'dewpoint_c\\': 20.4, \\'dewpoint_f\\': 68.7, \\'vis_km\\': 5.0, \\'vis_miles\\': 3.0, \\'uv\\': 9.2, \\'gust_mph\\': 9.9, \\'gust_kph\\': 16.0}}\", \\'score\\': 0.9564591}, {\\'title\\': \\'Chennai Weather Forecast Today, March 14, 2025: Warm, Humid ...\\', \\'url\\': \\'https://www.moneycontrol.com/travel/chennai-weather-forecast-today-march-14-2025-warm-humid-day-with-a-slight-chance-of-rain-article-12964962.html\\', \\'content\\': \\'Chennai is set for a warm and humid day on March 14, 2025, with temperatures ranging from a high of 36°C (98°F) to a low of 24°C (76°F).\\', \\'score\\': 0.95618236}]', name='tavily_search_results_json', tool_call_id='call_K8K1hfEXCrvhNTdypQgzguFq')]\n",
      "[AIMessage(content='The current weather in Chennai, India is misty with a temperature of 30.1°C (86.2°F). The humidity is at 75%, with a gentle breeze from the SSE direction. The visibility is 5.0 km (3.0 miles), and it is a daytime condition.', additional_kwargs={'refusal': None}, response_metadata={'token_usage': {'completion_tokens': 64, 'prompt_tokens': 747, 'total_tokens': 811, 'completion_tokens_details': {'accepted_prediction_tokens': 0, 'audio_tokens': 0, 'reasoning_tokens': 0, 'rejected_prediction_tokens': 0}, 'prompt_tokens_details': {'audio_tokens': 0, 'cached_tokens': 0}}, 'model_name': 'gpt-3.5-turbo-0125', 'system_fingerprint': None, 'finish_reason': 'stop', 'logprobs': None}, id='run-408f3828-f0a2-4613-a6df-f375c134b4c2-0', usage_metadata={'input_tokens': 747, 'output_tokens': 64, 'total_tokens': 811, 'input_token_details': {'audio': 0, 'cache_read': 0}, 'output_token_details': {'audio': 0, 'reasoning': 0}})]\n"
     ]
    }
   ],
   "source": [
    "for event in abot.graph.stream({\"messages\":messages}, thread):\n",
    "    for v in event.values():\n",
    "        print (v['messages'])\n",
    "    "
   ]
  },
  {
   "cell_type": "code",
   "execution_count": 13,
   "metadata": {},
   "outputs": [
    {
     "name": "stdout",
     "output_type": "stream",
     "text": [
      "[AIMessage(content='', additional_kwargs={'tool_calls': [{'id': 'call_zaOb8U7VAnECvV7XoS4Xkp14', 'function': {'arguments': '{\"query\":\"weather in Los Angeles, California\"}', 'name': 'tavily_search_results_json'}, 'type': 'function'}], 'refusal': None}, response_metadata={'token_usage': {'completion_tokens': 24, 'prompt_tokens': 821, 'total_tokens': 845, 'completion_tokens_details': {'accepted_prediction_tokens': 0, 'audio_tokens': 0, 'reasoning_tokens': 0, 'rejected_prediction_tokens': 0}, 'prompt_tokens_details': {'audio_tokens': 0, 'cached_tokens': 0}}, 'model_name': 'gpt-3.5-turbo-0125', 'system_fingerprint': None, 'finish_reason': 'tool_calls', 'logprobs': None}, id='run-31b768ba-6bb5-471d-b784-f1bb2c785139-0', tool_calls=[{'name': 'tavily_search_results_json', 'args': {'query': 'weather in Los Angeles, California'}, 'id': 'call_zaOb8U7VAnECvV7XoS4Xkp14', 'type': 'tool_call'}], usage_metadata={'input_tokens': 821, 'output_tokens': 24, 'total_tokens': 845, 'input_token_details': {'audio': 0, 'cache_read': 0}, 'output_token_details': {'audio': 0, 'reasoning': 0}})]\n",
      "invoking tool {'name': 'tavily_search_results_json', 'args': {'query': 'weather in Los Angeles, California'}, 'id': 'call_zaOb8U7VAnECvV7XoS4Xkp14', 'type': 'tool_call'}\n",
      "back to the model!\n",
      "[ToolMessage(content='[{\\'title\\': \\'Weather in Los Angeles, California\\', \\'url\\': \\'https://www.weatherapi.com/\\', \\'content\\': \"{\\'location\\': {\\'name\\': \\'Los Angeles\\', \\'region\\': \\'California\\', \\'country\\': \\'United States of America\\', \\'lat\\': 34.0522, \\'lon\\': -118.2428, \\'tz_id\\': \\'America/Los_Angeles\\', \\'localtime_epoch\\': 1741929791, \\'localtime\\': \\'2025-03-13 22:23\\'}, \\'current\\': {\\'last_updated_epoch\\': 1741929300, \\'last_updated\\': \\'2025-03-13 22:15\\', \\'temp_c\\': 11.7, \\'temp_f\\': 53.1, \\'is_day\\': 0, \\'condition\\': {\\'text\\': \\'Clear\\', \\'icon\\': \\'//cdn.weatherapi.com/weather/64x64/night/113.png\\', \\'code\\': 1000}, \\'wind_mph\\': 8.7, \\'wind_kph\\': 14.0, \\'wind_degree\\': 279, \\'wind_dir\\': \\'W\\', \\'pressure_mb\\': 1015.0, \\'pressure_in\\': 29.96, \\'precip_mm\\': 0.0, \\'precip_in\\': 0.0, \\'humidity\\': 61, \\'cloud\\': 0, \\'feelslike_c\\': 10.1, \\'feelslike_f\\': 50.2, \\'windchill_c\\': 7.0, \\'windchill_f\\': 44.6, \\'heatindex_c\\': 8.6, \\'heatindex_f\\': 47.5, \\'dewpoint_c\\': 5.3, \\'dewpoint_f\\': 41.6, \\'vis_km\\': 16.0, \\'vis_miles\\': 9.0, \\'uv\\': 0.0, \\'gust_mph\\': 11.5, \\'gust_kph\\': 18.5}}\", \\'score\\': 0.9637321}, {\\'title\\': \\'Weather in Los Angeles in March 2025 (California)\\', \\'url\\': \\'https://world-weather.info/forecast/usa/los_angeles/march-2025/\\', \\'content\\': \"Weather in Los Angeles in March 2025 (California) - Detailed Weather Forecast for a Month Weather in Los Angeles Weather in Los Angeles in March 2025 1 +59°+55° 2 +57°+54° 3 +61°+46° 4 +61°+52° 5 +54°+50° 6 +48°+46° 7 +64°+45° 8 +64°+46° 9 +70°+46° 10 +66°+50° 11 +57°+54° 12 +61°+54° 13 +59°+54° 14 +52°+45° 15 +64°+50° 16 +72°+48° 17 +63°+54° 18 +64°+52° 19 +68°+48° 20 +70°+50° 21 +68°+52° 22 +61°+55° 23 +59°+57° 24 +61°+54° 25 +63°+59° 26 +64°+57° 27 +66°+64° +66°+55° +66°+55° +66°+55° +66°+57° Extended weather forecast in Los Angeles Weather in Washington, D.C.+50° Sacramento+54° Norwalk+57° Pasadena+52° Rosemead+54° Inglewood+54° Bellflower+57° Burbank+54° Compton+55° Pearblossom+43° Cornell+52° world\\'s temperature today Weather forecast on your site Install Los Angeles+55° Temperature units\", \\'score\\': 0.93265617}]', name='tavily_search_results_json', tool_call_id='call_zaOb8U7VAnECvV7XoS4Xkp14')]\n",
      "[AIMessage(content='The current weather in Los Angeles, California is clear with a temperature of 11.7°C (53.1°F). The humidity is at 61%, with a gentle breeze from the west. The visibility is 16.0 km (9.0 miles), and it is currently night time in Los Angeles.', additional_kwargs={'refusal': None}, response_metadata={'token_usage': {'completion_tokens': 66, 'prompt_tokens': 1697, 'total_tokens': 1763, 'completion_tokens_details': {'accepted_prediction_tokens': 0, 'audio_tokens': 0, 'reasoning_tokens': 0, 'rejected_prediction_tokens': 0}, 'prompt_tokens_details': {'audio_tokens': 0, 'cached_tokens': 0}}, 'model_name': 'gpt-3.5-turbo-0125', 'system_fingerprint': None, 'finish_reason': 'stop', 'logprobs': None}, id='run-6893fb8b-6f47-46d6-8072-263d57474a11-0', usage_metadata={'input_tokens': 1697, 'output_tokens': 66, 'total_tokens': 1763, 'input_token_details': {'audio': 0, 'cache_read': 0}, 'output_token_details': {'audio': 0, 'reasoning': 0}})]\n"
     ]
    }
   ],
   "source": [
    "messages = [HumanMessage(content=\"how about la?\")]\n",
    "for event in abot.graph.stream({\"messages\": messages}, thread):\n",
    "    for v in event.values():\n",
    "        print (v['messages'])"
   ]
  },
  {
   "cell_type": "code",
   "execution_count": 14,
   "metadata": {},
   "outputs": [
    {
     "name": "stdout",
     "output_type": "stream",
     "text": [
      "[AIMessage(content='', additional_kwargs={'tool_calls': [{'id': 'call_TyqUjJjMFEENbrxrotcSOG0N', 'function': {'arguments': '{\"query\":\"weather in Portland, Oregon\"}', 'name': 'tavily_search_results_json'}, 'type': 'function'}], 'refusal': None}, response_metadata={'token_usage': {'completion_tokens': 23, 'prompt_tokens': 1774, 'total_tokens': 1797, 'completion_tokens_details': {'accepted_prediction_tokens': 0, 'audio_tokens': 0, 'reasoning_tokens': 0, 'rejected_prediction_tokens': 0}, 'prompt_tokens_details': {'audio_tokens': 0, 'cached_tokens': 0}}, 'model_name': 'gpt-3.5-turbo-0125', 'system_fingerprint': None, 'finish_reason': 'tool_calls', 'logprobs': None}, id='run-2ba85b42-4130-4f9f-89bf-52333b85c584-0', tool_calls=[{'name': 'tavily_search_results_json', 'args': {'query': 'weather in Portland, Oregon'}, 'id': 'call_TyqUjJjMFEENbrxrotcSOG0N', 'type': 'tool_call'}], usage_metadata={'input_tokens': 1774, 'output_tokens': 23, 'total_tokens': 1797, 'input_token_details': {'audio': 0, 'cache_read': 0}, 'output_token_details': {'audio': 0, 'reasoning': 0}})]\n",
      "invoking tool {'name': 'tavily_search_results_json', 'args': {'query': 'weather in Portland, Oregon'}, 'id': 'call_TyqUjJjMFEENbrxrotcSOG0N', 'type': 'tool_call'}\n",
      "back to the model!\n",
      "[ToolMessage(content='[{\\'title\\': \\'Weather in Portland, Oregon\\', \\'url\\': \\'https://www.weatherapi.com/\\', \\'content\\': \"{\\'location\\': {\\'name\\': \\'Portland\\', \\'region\\': \\'Oregon\\', \\'country\\': \\'United States of America\\', \\'lat\\': 45.5236, \\'lon\\': -122.675, \\'tz_id\\': \\'America/Los_Angeles\\', \\'localtime_epoch\\': 1741929958, \\'localtime\\': \\'2025-03-13 22:25\\'}, \\'current\\': {\\'last_updated_epoch\\': 1741929300, \\'last_updated\\': \\'2025-03-13 22:15\\', \\'temp_c\\': 5.6, \\'temp_f\\': 42.1, \\'is_day\\': 0, \\'condition\\': {\\'text\\': \\'Partly cloudy\\', \\'icon\\': \\'//cdn.weatherapi.com/weather/64x64/night/116.png\\', \\'code\\': 1003}, \\'wind_mph\\': 4.5, \\'wind_kph\\': 7.2, \\'wind_degree\\': 189, \\'wind_dir\\': \\'S\\', \\'pressure_mb\\': 1006.0, \\'pressure_in\\': 29.71, \\'precip_mm\\': 0.0, \\'precip_in\\': 0.0, \\'humidity\\': 79, \\'cloud\\': 75, \\'feelslike_c\\': 4.1, \\'feelslike_f\\': 39.3, \\'windchill_c\\': 1.1, \\'windchill_f\\': 34.0, \\'heatindex_c\\': 3.9, \\'heatindex_f\\': 39.0, \\'dewpoint_c\\': 3.7, \\'dewpoint_f\\': 38.6, \\'vis_km\\': 16.0, \\'vis_miles\\': 9.0, \\'uv\\': 0.0, \\'gust_mph\\': 7.5, \\'gust_kph\\': 12.0}}\", \\'score\\': 0.9193055}, {\\'title\\': \\'Weather in Portland in March 2025 (Oregon)\\', \\'url\\': \\'https://world-weather.info/forecast/usa/portland_2/march-2025/\\', \\'content\\': \"Weather in Portland in March 2025 (Oregon) - Detailed Weather Forecast for a Month Weather World United States Weather in Portland Weather in Portland in March 2025 Portland Weather Forecast for March 2025, is based on previous years\\' statistical data. +50°+41° +50°+41° +52°+41° +50°+41° +50°+41° +48°+39° +48°+39° +50°+39° +52°+41° +54°+43° +54°+43° +54°+45° +54°+45° +54°+45° +55°+43° +54°+41° +54°+41° +55°+43° +55°+45° +55°+45° +52°+43° +54°+45° +54°+43° +52°+43° +52°+41° +54°+43° +55°+46° +55°+46° +57°+45° +57°+46° +61°+45° Extended weather forecast in Portland HourlyWeek10-Day14-Day30-DayYear Weather in large and nearby cities Weather in Washington, D.C.+34° Salem+48° Woodburn+46° Federal Way+45° Gig Harbor+46° Kent+46° Longview+46° Olympia+45° Tacoma+45° Vancouver+46° Troutdale+45° The Dalles+46° Astoria+48° Beaverton+46° Bend+37° Clackamas+46° Carus+46° Lakebrook+48° world\\'s temperature today day day Weather forecast on your site Install Portland+46° Temperature units\", \\'score\\': 0.917251}]', name='tavily_search_results_json', tool_call_id='call_TyqUjJjMFEENbrxrotcSOG0N')]\n",
      "[AIMessage(content='The current weather in Portland, Oregon is partly cloudy with a temperature of 5.6°C (42.1°F). The humidity is at 79%, with a light breeze from the south. The visibility is 16.0 km (9.0 miles), and it is currently nighttime in Portland.', additional_kwargs={'refusal': None}, response_metadata={'token_usage': {'completion_tokens': 64, 'prompt_tokens': 2657, 'total_tokens': 2721, 'completion_tokens_details': {'accepted_prediction_tokens': 0, 'audio_tokens': 0, 'reasoning_tokens': 0, 'rejected_prediction_tokens': 0}, 'prompt_tokens_details': {'audio_tokens': 0, 'cached_tokens': 0}}, 'model_name': 'gpt-3.5-turbo-0125', 'system_fingerprint': None, 'finish_reason': 'stop', 'logprobs': None}, id='run-49fa46a0-0f9d-4d60-a65d-8f899404c67c-0', usage_metadata={'input_tokens': 2657, 'output_tokens': 64, 'total_tokens': 2721, 'input_token_details': {'audio': 0, 'cache_read': 0}, 'output_token_details': {'audio': 0, 'reasoning': 0}})]\n"
     ]
    }
   ],
   "source": [
    "messages = [HumanMessage(content=\"how about portland?\")]\n",
    "for event in abot.graph.stream({\"messages\": messages}, thread):\n",
    "    for v in event.values():\n",
    "        print (v['messages'])"
   ]
  },
  {
   "cell_type": "code",
   "execution_count": 15,
   "metadata": {},
   "outputs": [
    {
     "name": "stdout",
     "output_type": "stream",
     "text": [
      "[AIMessage(content='', additional_kwargs={'tool_calls': [{'id': 'call_3o5AcEUxA89WLVfZKKE3iHIA', 'function': {'arguments': '{\"query\":\"New York news\"}', 'name': 'tavily_search_results_json'}, 'type': 'function'}], 'refusal': None}, response_metadata={'token_usage': {'completion_tokens': 21, 'prompt_tokens': 150, 'total_tokens': 171, 'completion_tokens_details': {'accepted_prediction_tokens': 0, 'audio_tokens': 0, 'reasoning_tokens': 0, 'rejected_prediction_tokens': 0}, 'prompt_tokens_details': {'audio_tokens': 0, 'cached_tokens': 0}}, 'model_name': 'gpt-3.5-turbo-0125', 'system_fingerprint': None, 'finish_reason': 'tool_calls', 'logprobs': None}, id='run-c4013c13-bec8-40a9-a49b-801f6b6cd3f4-0', tool_calls=[{'name': 'tavily_search_results_json', 'args': {'query': 'New York news'}, 'id': 'call_3o5AcEUxA89WLVfZKKE3iHIA', 'type': 'tool_call'}], usage_metadata={'input_tokens': 150, 'output_tokens': 21, 'total_tokens': 171, 'input_token_details': {'audio': 0, 'cache_read': 0}, 'output_token_details': {'audio': 0, 'reasoning': 0}})]\n",
      "invoking tool {'name': 'tavily_search_results_json', 'args': {'query': 'New York news'}, 'id': 'call_3o5AcEUxA89WLVfZKKE3iHIA', 'type': 'tool_call'}\n",
      "back to the model!\n",
      "[ToolMessage(content='[{\\'title\\': \\'FOX 5 New York | Local News, Weather, and Live Streams | WNYW\\', \\'url\\': \\'https://www.fox5ny.com/\\', \\'content\\': \"FOX 5 New York FOX 5 New York News News New York State News FOX News Sunday FOX 5 NY Weather App FOX Weather Good Day New York FCC Public File Only on FOX 5 Philadelphia News - FOX 29 Philadelphia Washington DC News - FOX 5 DC NY News Update - Judge adjourns Mayor Adams\\' corruption case, Luigi Mangione in court Meet the FOX 5 NY Team New York City News Good Day New York News New York State News FOX News Sunday FOX 5 NY Weather App FOX Weather Good Day New York FCC Public File Only on FOX 5 Philadelphia News - FOX 29 Philadelphia Washington DC News - FOX 5 DC FCC Public File\", \\'score\\': 0.5900477}, {\\'title\\': \\'New York Post – Breaking News, Top Headlines, Photos & Videos\\', \\'url\\': \\'https://nypost.com/\\', \\'content\\': \\'Game time Travis Kelce, Taylor Swift enjoy NOLA double date with Patrick and Brittany Mahomes before Super Bowl 2025 Travis Kelce and Taylor Swift enjoyed a night out for dinner double date with Patrick and Brittany Mahomes at one of New Orleans’ trendiest restaurants days before the Chiefs will try to win Super Bowl 2025. Taylor Swift and Travis Kelce go on double date with Patrick and Brittany Mahomes in New Orleans ahead of Super Bowl 2025 The ‘View’ co-hosts applaud Travis Kelce’s ‘classy’ reaction to President Trump attending Super Bowl ##### Woman with history of drugging men is arrested in connection to death of Telemundo reporter covering Super Bowl in New Orleans\\', \\'score\\': 0.40218133}]', name='tavily_search_results_json', tool_call_id='call_3o5AcEUxA89WLVfZKKE3iHIA')]\n",
      "[AIMessage(content='I found some recent news articles related to New York. Here are a couple of sources you can check out:\\n\\n1. [FOX 5 New York](https://www.fox5ny.com/): Get local news, weather updates, and live streams on FOX 5 New York. Stay informed about New York State news, weather, and more.\\n   \\n2. [New York Post](https://nypost.com/): The New York Post provides breaking news, top headlines, photos, and videos. Stay updated on the latest happenings in New York.\\n\\nIs there anything specific you would like to know about New York?', additional_kwargs={'refusal': None}, response_metadata={'token_usage': {'completion_tokens': 129, 'prompt_tokens': 555, 'total_tokens': 684, 'completion_tokens_details': {'accepted_prediction_tokens': 0, 'audio_tokens': 0, 'reasoning_tokens': 0, 'rejected_prediction_tokens': 0}, 'prompt_tokens_details': {'audio_tokens': 0, 'cached_tokens': 0}}, 'model_name': 'gpt-3.5-turbo-0125', 'system_fingerprint': None, 'finish_reason': 'stop', 'logprobs': None}, id='run-3c3e583c-9c59-4aa3-b31c-2f0803d5c03c-0', usage_metadata={'input_tokens': 555, 'output_tokens': 129, 'total_tokens': 684, 'input_token_details': {'audio': 0, 'cache_read': 0}, 'output_token_details': {'audio': 0, 'reasoning': 0}})]\n"
     ]
    }
   ],
   "source": [
    "messages = [HumanMessage(content=\"how about NY?\")]\n",
    "thread={\"configurable\": {\"thread_id\":\"2\"}}\n",
    "for event in abot.graph.stream({\"messages\": messages}, thread):\n",
    "    for v in event.values():\n",
    "        print (v['messages'])"
   ]
  },
  {
   "cell_type": "code",
   "execution_count": 16,
   "metadata": {},
   "outputs": [],
   "source": [
    "# from langgraph.checkpoint.sqlite.aio import AsyncSqliteSaver\n",
    "# memory = AsyncSqliteSaver.from_conn_string(\":memory:\")\n",
    "abot = Agent(model, [tool],system=prompt, checkpointer=memory)"
   ]
  },
  {
   "cell_type": "code",
   "execution_count": 17,
   "metadata": {},
   "outputs": [
    {
     "name": "stdout",
     "output_type": "stream",
     "text": [
      "invoking tool {'name': 'tavily_search_results_json', 'args': {'query': 'weather in San Francisco'}, 'id': 'call_dqZ3W77XAPY95iI1r83GWlQj', 'type': 'tool_call'}\n",
      "back to the model!\n",
      "The current weather in San Francisco is partly cloudy with a temperature of 48.9°F (9.4°C). The wind speed is 21.6 km/h from the west, and the humidity is at 66%."
     ]
    }
   ],
   "source": [
    "messages = [HumanMessage(content=\"What is the weather in SF?\")]\n",
    "thread = {\"configurable\": {\"thread_id\": \"4\"}}\n",
    "async for event in abot.graph.astream_events({\"messages\": messages}, thread, version=\"v1\"):\n",
    "    kind = event[\"event\"]\n",
    "    if kind == \"on_chat_model_stream\":\n",
    "        content = event[\"data\"][\"chunk\"].content\n",
    "        if content:\n",
    "            # Empty content in the context of OpenAI means\n",
    "            # that the model is asking for a tool to be invoked.\n",
    "            # So we only print non-empty content\n",
    "            print(content, end=\"\")"
   ]
  }
 ],
 "metadata": {
  "kernelspec": {
   "display_name": "Python 3",
   "language": "python",
   "name": "python3"
  },
  "language_info": {
   "codemirror_mode": {
    "name": "ipython",
    "version": 3
   },
   "file_extension": ".py",
   "mimetype": "text/x-python",
   "name": "python",
   "nbconvert_exporter": "python",
   "pygments_lexer": "ipython3",
   "version": "3.12.1"
  }
 },
 "nbformat": 4,
 "nbformat_minor": 2
}
